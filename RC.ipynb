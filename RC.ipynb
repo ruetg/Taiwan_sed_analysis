{
 "cells": [
  {
   "cell_type": "code",
   "execution_count": 94,
   "metadata": {},
   "outputs": [
    {
     "ename": "SyntaxError",
     "evalue": "invalid syntax (<ipython-input-94-3ea9f03d2a22>, line 24)",
     "output_type": "error",
     "traceback": [
      "\u001b[0;36m  File \u001b[0;32m\"<ipython-input-94-3ea9f03d2a22>\"\u001b[0;36m, line \u001b[0;32m24\u001b[0m\n\u001b[0;31m    persistent centers\u001b[0m\n\u001b[0m                     ^\u001b[0m\n\u001b[0;31mSyntaxError\u001b[0m\u001b[0;31m:\u001b[0m invalid syntax\n"
     ]
    }
   ],
   "source": [
    "from sklearn import linear_model\n",
    "import numpy as np\n",
    "#import matplotlib.pyplot.plot as plt\n",
    "from scipy.io import loadmat\n",
    "import pandas as pd\n",
    "folder = \"/Users/gr_1/Documents/Tai_py/\"\n",
    "d = loadmat(folder + 'd')['d']\n",
    "c = loadmat(folder + 'c')['c']\n",
    "\n",
    "c=c.reshape(-1,1)\n",
    "d=d.reshape(-1,1)\n",
    "list1 = {'c':c,'d':d}\n",
    "#df = pd.DataFrame(list1)\n",
    "W = loadmat(folder + 'W')['W']\n",
    "global centers\n",
    "centers = pd.DataFrame()\n",
    "centers.index = range(500000)\n",
    "centers['bnm'] = ''\n",
    "centers['hnm'] = ''\n",
    "\n",
    "bnm = '1'\n",
    "hnm = '1'\n",
    "\n",
    "\n",
    "def center(bnm,hnm):\n",
    "    global centers\n",
    "    if len(centers) == 0:\n",
    "        centers = pd.DataFrame()\n",
    "        centers.index = range(500000)\n",
    "        centers['bnm'] = ''\n",
    "        centers['hnm'] = ''\n",
    "    if centers[(centers['bnm'] == bnm) & (centers['hnm'] == hnm)]['c'] == 0:\n",
    "        sobjn = loadmat('sobjn')['sobjn']\n",
    "        d=sobj_flow{bnm,hnm};\n",
    "\n",
    "\n",
    "    mn=np.mean(np.log(d[d>0]));\n",
    "    ds=(log(d(d>0)));\n",
    "    c =  mn + sum(np.power((ds-mn),3))/sum((2*np.power((ds-mn),2)));\n",
    "    if np.isnan(c):\n",
    "        c=0\n",
    "    centers[(centers['hnm'] == hnm)&(centers['bnm'] == bnm)]\n",
    "\n",
    "    else\n",
    "        c=centers[bnm,hnm]\n",
    "    return c\n",
    "\n",
    "\n",
    "\n",
    "\n",
    "\n",
    "def mvue(x,y,W):\n",
    "    global Xb,X\n",
    "\n",
    "    model = linear_model.LinearRegression()\n",
    "    model.fit(np.log(x[x>0]).reshape(-1,1),np.log(y[y>0]).reshape(-1,1))\n",
    "    b = model.coef_\n",
    "    a = np.exp(model.intercept_)\n",
    "    \n",
    "    ld = np.log(x[np.logical_and(x>0,y>0)])\n",
    "    n1 = len(ld)\n",
    "    lw = np.log(W[W>0])\n",
    "    n2 = len(lw)\n",
    "    print(np.shape(ld))\n",
    "\n",
    "    X = np.array([np.ones_like(ld).ravel(),ld.ravel()])  \n",
    "    Xb = np.array([np.ones_like(lw).ravel(),lw.ravel()])\n",
    "    \n",
    "    Vt = np.matmul(np.linalg.lstsq((np.matmul(X,np.transpose(X))),Xb)[0].transpose(),Xb)\n",
    "    V=np.zeros_like(Xb.transpose());\n",
    "    for i in range(len(Vt)):\n",
    "        V[i]=Vt[i,i]\n",
    "    \n",
    "    W[W==0]=np.nan\n",
    "    SE1=np.sum((np.log(c[c>0&d>0])-(log(p[2])+(log(d[c>0&d>0])-center[bnm,hnm)).*p(1))).^2)./(length(c(c>0&d>0))-2);\n",
    "    \n",
    "    return Vt,a,b\n",
    "\n",
    "Vt,a,b = mvue(d,c,W)\n"
   ]
  },
  {
   "cell_type": "markdown",
   "metadata": {},
   "source": [
    "loadmat('d')"
   ]
  },
  {
   "cell_type": "code",
   "execution_count": 96,
   "metadata": {},
   "outputs": [],
   "source": [
    "sobjn = loadmat(folder + 'sobjn')\n"
   ]
  },
  {
   "cell_type": "code",
   "execution_count": 77,
   "metadata": {},
   "outputs": [
    {
     "ename": "ValueError",
     "evalue": "matmul: Input operand 1 has a mismatch in its core dimension 0, with gufunc signature (n?,k),(k,m?)->(n?,m?) (size 1000 is different from 100)",
     "output_type": "error",
     "traceback": [
      "\u001b[0;31m---------------------------------------------------------------------------\u001b[0m",
      "\u001b[0;31mValueError\u001b[0m                                Traceback (most recent call last)",
      "\u001b[0;32m<ipython-input-77-fac504eb53ab>\u001b[0m in \u001b[0;36m<module>\u001b[0;34m\u001b[0m\n\u001b[0;32m----> 1\u001b[0;31m \u001b[0mnp\u001b[0m\u001b[0;34m.\u001b[0m\u001b[0mlinalg\u001b[0m\u001b[0;34m.\u001b[0m\u001b[0msolve\u001b[0m\u001b[0;34m(\u001b[0m\u001b[0mXb\u001b[0m\u001b[0;34m,\u001b[0m \u001b[0mnp\u001b[0m\u001b[0;34m.\u001b[0m\u001b[0mmatmul\u001b[0m\u001b[0;34m(\u001b[0m\u001b[0mnp\u001b[0m\u001b[0;34m.\u001b[0m\u001b[0mmatmul\u001b[0m\u001b[0;34m(\u001b[0m\u001b[0mnp\u001b[0m\u001b[0;34m.\u001b[0m\u001b[0mtranspose\u001b[0m\u001b[0;34m(\u001b[0m\u001b[0mX\u001b[0m\u001b[0;34m)\u001b[0m\u001b[0;34m,\u001b[0m \u001b[0mX\u001b[0m\u001b[0;34m)\u001b[0m\u001b[0;34m,\u001b[0m\u001b[0mnp\u001b[0m\u001b[0;34m.\u001b[0m\u001b[0mtranspose\u001b[0m\u001b[0;34m(\u001b[0m\u001b[0mXb\u001b[0m\u001b[0;34m)\u001b[0m\u001b[0;34m)\u001b[0m\u001b[0;34m)\u001b[0m\u001b[0;34m\u001b[0m\u001b[0;34m\u001b[0m\u001b[0m\n\u001b[0m",
      "\u001b[0;31mValueError\u001b[0m: matmul: Input operand 1 has a mismatch in its core dimension 0, with gufunc signature (n?,k),(k,m?)->(n?,m?) (size 1000 is different from 100)"
     ]
    }
   ],
   "source": [
    "np.linalg.solve(Xb, np.matmul(np.matmul(np.transpose(X), X),np.transpose(Xb)))"
   ]
  },
  {
   "cell_type": "code",
   "execution_count": 173,
   "metadata": {},
   "outputs": [
    {
     "ename": "ValueError",
     "evalue": "matmul: Input operand 1 has a mismatch in its core dimension 0, with gufunc signature (n?,k),(k,m?)->(n?,m?) (size 1 is different from 2)",
     "output_type": "error",
     "traceback": [
      "\u001b[0;31m---------------------------------------------------------------------------\u001b[0m",
      "\u001b[0;31mValueError\u001b[0m                                Traceback (most recent call last)",
      "\u001b[0;32m<ipython-input-173-c372b32c9b91>\u001b[0m in \u001b[0;36m<module>\u001b[0;34m\u001b[0m\n\u001b[0;32m----> 1\u001b[0;31m \u001b[0mnp\u001b[0m\u001b[0;34m.\u001b[0m\u001b[0mshape\u001b[0m\u001b[0;34m(\u001b[0m\u001b[0mnp\u001b[0m\u001b[0;34m.\u001b[0m\u001b[0mmatmul\u001b[0m\u001b[0;34m(\u001b[0m\u001b[0mnp\u001b[0m\u001b[0;34m.\u001b[0m\u001b[0mtranspose\u001b[0m\u001b[0;34m(\u001b[0m\u001b[0mX\u001b[0m\u001b[0;34m)\u001b[0m\u001b[0;34m,\u001b[0m \u001b[0mX\u001b[0m\u001b[0;34m)\u001b[0m\u001b[0;34m)\u001b[0m\u001b[0;34m\u001b[0m\u001b[0;34m\u001b[0m\u001b[0m\n\u001b[0m",
      "\u001b[0;31mValueError\u001b[0m: matmul: Input operand 1 has a mismatch in its core dimension 0, with gufunc signature (n?,k),(k,m?)->(n?,m?) (size 1 is different from 2)"
     ]
    }
   ],
   "source": [
    "np.shape(np.matmul(np.transpose(X), X))"
   ]
  },
  {
   "cell_type": "code",
   "execution_count": 171,
   "metadata": {},
   "outputs": [
    {
     "data": {
      "text/plain": [
       "(1000, 1, 2)"
      ]
     },
     "execution_count": 171,
     "metadata": {},
     "output_type": "execute_result"
    }
   ],
   "source": [
    "np.shape(np.transpose(Xb))"
   ]
  },
  {
   "cell_type": "code",
   "execution_count": 107,
   "metadata": {},
   "outputs": [
    {
     "data": {
      "text/plain": [
       "(1, 0)"
      ]
     },
     "execution_count": 107,
     "metadata": {},
     "output_type": "execute_result"
    }
   ],
   "source": [
    "np.shape(sobjn['sobj_conc'][1,1])"
   ]
  },
  {
   "cell_type": "code",
   "execution_count": null,
   "metadata": {},
   "outputs": [],
   "source": []
  }
 ],
 "metadata": {
  "kernelspec": {
   "display_name": "Python 3",
   "language": "python",
   "name": "python3"
  },
  "language_info": {
   "codemirror_mode": {
    "name": "ipython",
    "version": 3
   },
   "file_extension": ".py",
   "mimetype": "text/x-python",
   "name": "python",
   "nbconvert_exporter": "python",
   "pygments_lexer": "ipython3",
   "version": "3.7.7"
  }
 },
 "nbformat": 4,
 "nbformat_minor": 4
}
