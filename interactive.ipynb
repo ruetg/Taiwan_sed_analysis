{
 "cells": [
  {
   "cell_type": "code",
   "execution_count": null,
   "metadata": {},
   "outputs": [],
   "source": [
    "import torch\n",
    "import pandas as pd\n",
    "from scipy.io import loadmat\n",
    "import numpy as np"
   ]
  },
  {
   "cell_type": "code",
   "execution_count": null,
   "metadata": {},
   "outputs": [],
   "source": [
    "folder = \"/Users/gr_1/Documents/Tai_py/\"\n",
    "s = loadmat(folder + 'sobjn')\n"
   ]
  },
  {
   "cell_type": "code",
   "execution_count": null,
   "metadata": {},
   "outputs": [],
   "source": [
    "locs = loadmat(folder + 'locations')"
   ]
  },
  {
   "cell_type": "code",
   "execution_count": null,
   "metadata": {},
   "outputs": [],
   "source": [
    "I,J = np.shape(s['sobj_conc'])"
   ]
  },
  {
   "cell_type": "code",
   "execution_count": null,
   "metadata": {},
   "outputs": [],
   "source": [
    "\n",
    "sed = pd.DataFrame()\n",
    "\n",
    "for i in range(I):\n",
    "    for j in range(J):\n",
    "        if not(np.size(s['sobj_conc'][i,j]) == 0):\n",
    "            sedt = pd.DataFrame({'id':range(len(s['sobj_conc'][i,j]))})\n",
    "            \n",
    "            sedt['basin'] = i\n",
    "            sedt['station'] = j\n",
    "            try:\n",
    "                sedt['datelin'] = s['sobj_dateslin'][i,j]\n",
    "            except:\n",
    "                sedt['datelin'] = np.nan\n",
    "                print('here')\n",
    "            sedt['month'] = s['sobj_dates'][i,j][:,0]\n",
    "            sedt['day'] = s['sobj_dates'][i,j][:,1]\n",
    "            \n",
    "            sedt['conc'] = s['sobj_conc'][i,j]\n",
    "            sedt['flow'] = s['sobj_flow'][i,j]\n",
    "            try:\n",
    "                f = np.where((locs['basin'] == i) & (locs['station'] == j))[0][0]\n",
    "\n",
    "                sedt['x'] = locs['x'][f]\n",
    "                sedt['y'] = locs['y'][f]\n",
    "            except:\n",
    "                sedt['x'] = np.nan\n",
    "                sedt['y'] = np.nan\n",
    "            sed = sed.append(sedt)\n",
    "            \n",
    "            \n",
    "            \n",
    "        "
   ]
  },
  {
   "cell_type": "code",
   "execution_count": null,
   "metadata": {},
   "outputs": [],
   "source": [
    "sed = pd.DataFrame()\n",
    "from IPython.core.debugger import set_trace\n",
    "for i in range(I):\n",
    "    for j in range(J):\n",
    "        if not(np.size(s['sobj_conc'][i,j]) == 0):\n",
    "            #sedt = pd.DataFrame({'id':range(len(s['sobj_conc'][i,j]))})\n",
    "            ii = i+1\n",
    "            ij = j+1\n",
    "            sedt = pd.DataFrame({'id':[1]})\n",
    "            sedt['basin'] = ii\n",
    "            sedt['station'] = ij\n",
    "            try:\n",
    "                sedt['datelin'] = [s['sobj_dateslin'][i,j]]\n",
    "            except:\n",
    "                sedt['datelin'] = [np.nan]\n",
    "                print('here')\n",
    "            sedt['month'] = [s['sobj_dates'][i,j][:,0]]\n",
    "            sedt['day'] = [s['sobj_dates'][i,j][:,1]]\n",
    "            \n",
    "            sedt['conc'] = [s['sobj_conc'][i,j]]\n",
    "            sedt['flow'] = [s['sobj_flow'][i,j]]\n",
    "            sedt['yeaer'] = (sedt['datelin'].values - 704919)/365.25 + 1930\n",
    "\n",
    "            try:\n",
    "                f = np.where((locs['basin'][0] == ii) & (locs['station'][0] == ij))[0]\n",
    "                sedt['x'] = locs['x'][f]\n",
    "                sedt['y'] = locs['y'][f]\n",
    "            except:\n",
    "                sedt['x'] = np.nan\n",
    "                sedt['y'] = np.nan\n",
    "            sed = sed.append(sedt)"
   ]
  },
  {
   "cell_type": "code",
   "execution_count": null,
   "metadata": {},
   "outputs": [],
   "source": [
    "sed = pd.DataFrame()\n",
    "from IPython.core.debugger import set_trace\n",
    "for i in range(I):\n",
    "    for j in range(J):\n",
    "        if not(np.size(s['sobj_conc'][i,j]) == 0):\n",
    "            #sedt = pd.DataFrame({'id':range(len(s['sobj_conc'][i,j]))})\n",
    "            ii = i+1\n",
    "            ij = j+1\n",
    "            sedt = pd.DataFrame({'id':[1]})\n",
    "            sedt['basin'] = ii\n",
    "            sedt['station'] = ij\n",
    "            try:\n",
    "                sedt['datelin'] = [s['sobj_dateslin'][i,j]]\n",
    "            except:\n",
    "                \n",
    "                sedt['datelin'] = [np.nan]\n",
    "                print('here')\n",
    "                continue\n",
    "            try:\n",
    "                sedt['month'] = [s['sobj_dates'][i,j][:,0]]\n",
    "                sedt['day'] = [s['sobj_dates'][i,j][:,1]]\n",
    "                yr = ((sedt['datelin'].values - 704919)/365.25 + 1930)\n",
    "                sedt['year'] = yr\n",
    "                sedt['conc_b'] = [s['sobj_conc'][i,j][sedt['year'].squeeze()<2009.67]]\n",
    "                sedt['flow_b'] = [s['sobj_flow'][i,j][sedt['year'].squeeze()<2009.67]]\n",
    "                sedt['year_b'] = [sedt['year'].squeeze()[sedt['year'].squeeze()<2009.67]]\n",
    "                sedt['conc_b'][0][sedt['conc_b'][0]==0] = 1\n",
    "                sedt['conc_a'] = [s['sobj_conc'][i,j][sedt['year'].squeeze()>=2009.67]]\n",
    "                sedt['flow_a'] = [s['sobj_flow'][i,j][sedt['year'].squeeze()>=2009.67]]\n",
    "                sedt['year_a'] = [sedt['year'].squeeze()[sedt['year'].squeeze()>=2009.67]]\n",
    "                sedt['conc_a'][0][sedt['conc_a'][0]==0] = 1\n",
    "                sedt['conc_a'][0][np.isnan(sedt['conc_a'][0])] = 1\n",
    "                sedt['conc_b'][0][np.isnan(sedt['conc_b'][0])] = 1\n",
    "                sedt['conc_a'][0][sedt['conc_a'][0]>=100000] = 1\n",
    "                sedt['conc_b'][0][sedt['conc_b'][0]>=100000] = 1\n",
    "\n",
    "            except:\n",
    "                continue\n",
    "\n",
    "            try:\n",
    "                f = np.where((locs['basin'][0] == ii) & (locs['station'][0] == ij))[0]\n",
    "                sedt['x'] = locs['x'][f]\n",
    "                sedt['y'] = locs['y'][f]\n",
    "            except:\n",
    "                sedt['x'] = np.nan\n",
    "                sedt['y'] = np.nan\n",
    "            sed = sed.append(sedt)\n",
    "sed.index = range(len(sed))"
   ]
  },
  {
   "cell_type": "code",
   "execution_count": null,
   "metadata": {},
   "outputs": [],
   "source": [
    "sed.loc[0,'conc_b']"
   ]
  },
  {
   "cell_type": "code",
   "execution_count": null,
   "metadata": {},
   "outputs": [],
   "source": [
    "def strcat(int1,int2):\n",
    "    return str(int1)+'_'+str(int2)\n",
    "sed['basta'] = list(map(strcat,sed['basin'],sed['station']))"
   ]
  },
  {
   "cell_type": "code",
   "execution_count": 93,
   "metadata": {},
   "outputs": [],
   "source": [
    "import altair as alt\n",
    "alt.data_transformers.disable_max_rows()\n",
    "brush = alt.selection_single(nearest=True)\n",
    "\n",
    "brush2 = alt.selection_interval(encodings=['x'])\n",
    "\n",
    "\n",
    "points = alt.Chart().mark_circle().encode(\n",
    "    x=alt.X('x',scale=alt.Scale(domain=[120, 122])),\n",
    "    y=alt.Y('y',scale=alt.Scale(domain=[21, 26])),\n",
    "    color=alt.condition(brush, 'id:O', alt.value('lightgray'), legend=None)\n",
    ").add_selection(\n",
    "    brush\n",
    ").properties(\n",
    "    width=200,\n",
    "    height=400\n",
    ")\n",
    "\n",
    "bars = alt.Chart().mark_circle().transform_filter(brush).transform_flatten(['year_b','conc_b','flow_b']).encode(\n",
    "    x=alt.X('flow_b:Q',scale=alt.Scale(zero=False,type='log',domain=(.010,100000))),\n",
    "    y=alt.Y('conc_b:Q',scale=alt.Scale(zero=False,type='log',domain = (1,100000))),\n",
    "    color=alt.value('#00FFFF')\n",
    "    \n",
    ").properties(\n",
    "    width=500,\n",
    "    height=300\n",
    "    \n",
    ")\n",
    "\n",
    "bars2 = alt.Chart().mark_circle().transform_filter(brush).transform_flatten(['year_a','conc_a','flow_a']).encode(\n",
    "    x=alt.X('flow_a:Q',scale=alt.Scale(zero=False,type='log',domain=(.010,100000))),\n",
    "    y=alt.Y('conc_a:Q',scale=alt.Scale(zero=False,type='log',domain=(1,100000))),\n",
    "    color=alt.value('#FF0000')\n",
    ").properties(\n",
    "    width=500,\n",
    "    height=300\n",
    ")\n",
    "\n",
    "\n",
    "a=alt.vconcat(points,bars+bars2, data=sed)\n"
   ]
  },
  {
   "cell_type": "code",
   "execution_count": 96,
   "metadata": {},
   "outputs": [],
   "source": [
    "a.save('/Users/gr_1/Desktop/tai_sed.html')"
   ]
  },
  {
   "cell_type": "code",
   "execution_count": null,
   "metadata": {},
   "outputs": [],
   "source": [
    "import seaborn as sns\n",
    "for a,b in sed.groupby('basta'):\n",
    "    fig,ax = plt.subplots(figsize=(10,10))\n",
    "    sns.boxplot(data=b,x='basta',y='conc')"
   ]
  },
  {
   "cell_type": "code",
   "execution_count": null,
   "metadata": {},
   "outputs": [],
   "source": [
    "sed.loc[0,'conc_b']"
   ]
  },
  {
   "cell_type": "code",
   "execution_count": null,
   "metadata": {},
   "outputs": [],
   "source": []
  },
  {
   "cell_type": "code",
   "execution_count": null,
   "metadata": {},
   "outputs": [],
   "source": []
  }
 ],
 "metadata": {
  "kernelspec": {
   "display_name": "Python 3",
   "language": "python",
   "name": "python3"
  },
  "language_info": {
   "codemirror_mode": {
    "name": "ipython",
    "version": 3
   },
   "file_extension": ".py",
   "mimetype": "text/x-python",
   "name": "python",
   "nbconvert_exporter": "python",
   "pygments_lexer": "ipython3",
   "version": "3.7.7"
  }
 },
 "nbformat": 4,
 "nbformat_minor": 4
}
